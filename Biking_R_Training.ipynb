{
  "cells": [
    {
      "cell_type": "markdown",
      "metadata": {
        "id": "view-in-github",
        "colab_type": "text"
      },
      "source": [
        "<a href=\"https://colab.research.google.com/github/m-azadd/Analytics-Exchange/blob/main/Biking_R_Training.ipynb\" target=\"_parent\"><img src=\"https://colab.research.google.com/assets/colab-badge.svg\" alt=\"Open In Colab\"/></a>"
      ]
    },
    {
      "cell_type": "markdown",
      "source": [
        "# Who Bikes in New York City?\n",
        "## Looking at biking in the city by gender, using the collected in the 2022 Citywide Mobility Survey\n",
        "\n",
        "The purpose of this training is to highlight a topic of interest and demonstrate a method for working with CMS data in R.\n",
        "\n",
        "\n"
      ],
      "metadata": {
        "id": "duReoWp2zLfK"
      }
    },
    {
      "cell_type": "markdown",
      "source": [
        "## Loading Packages\n",
        "To start, load the packages into R."
      ],
      "metadata": {
        "id": "nJXOtY_o1iT4"
      }
    },
    {
      "cell_type": "code",
      "execution_count": null,
      "metadata": {
        "colab": {
          "base_uri": "https://localhost:8080/",
          "height": 167
        },
        "id": "fg73Xhgzl-rh",
        "outputId": "113f2746-8e64-4be5-ca0a-2989cfd49a1c"
      },
      "outputs": [
        {
          "output_type": "display_data",
          "data": {
            "text/html": [
              "<ol>\n",
              "\t<li>TRUE</li>\n",
              "\t<li>TRUE</li>\n",
              "\t<li>TRUE</li>\n",
              "\t<li>TRUE</li>\n",
              "\t<li>TRUE</li>\n",
              "\t<li>TRUE</li>\n",
              "\t<li>TRUE</li>\n",
              "</ol>\n"
            ],
            "text/markdown": "1. TRUE\n2. TRUE\n3. TRUE\n4. TRUE\n5. TRUE\n6. TRUE\n7. TRUE\n\n\n",
            "text/latex": "\\begin{enumerate}\n\\item TRUE\n\\item TRUE\n\\item TRUE\n\\item TRUE\n\\item TRUE\n\\item TRUE\n\\item TRUE\n\\end{enumerate}\n",
            "text/plain": [
              "[[1]]\n",
              "[1] TRUE\n",
              "\n",
              "[[2]]\n",
              "[1] TRUE\n",
              "\n",
              "[[3]]\n",
              "[1] TRUE\n",
              "\n",
              "[[4]]\n",
              "[1] TRUE\n",
              "\n",
              "[[5]]\n",
              "[1] TRUE\n",
              "\n",
              "[[6]]\n",
              "[1] TRUE\n",
              "\n",
              "[[7]]\n",
              "[1] TRUE\n"
            ]
          },
          "metadata": {}
        }
      ],
      "source": [
        "# List of packages to be installed and loaded\n",
        "packages <- c(\"dplyr\", \"lubridate\", \"ggplot2\",\"readxl\",\"readr\",\"tidyverse\",\"scales\")\n",
        "\n",
        "# Install and load the packages\n",
        "lapply(packages, require, character.only = TRUE)"
      ]
    },
    {
      "cell_type": "markdown",
      "source": [
        "## Load CMS Data\n",
        "One way to access CMS data is through the Open Data portal. You may also download the data to your system and use the corresponding file paths.\n",
        "\n",
        "Here, we use the Person and Trip tables by reading them from Open Data:"
      ],
      "metadata": {
        "id": "QJrg3Obf0lcI"
      }
    },
    {
      "cell_type": "code",
      "execution_count": null,
      "metadata": {
        "id": "gxQW56zBnden"
      },
      "outputs": [],
      "source": [
        "# Load the Person data from NYC Open Data\n",
        "dfPerson <- read_csv(\"https://data.cityofnewyork.us/api/views/7qdz-u9hr/rows.csv?accessType=DOWNLOAD\", show_col_types = FALSE,\n",
        "  col_types = list(\n",
        "    hh_id = \"c\",                # Household ID as character\n",
        "    person_id = \"c\",            # Person ID as character\n",
        "    school_park_amount = \"n\"    # School parking amount as numeric\n",
        "  ))\n",
        "\n",
        "# Load the Trip data from NYC Open Data\n",
        "dfTrip <- read_csv(\"https://data.cityofnewyork.us/api/views/x5mc-2gmi/rows.csv?accessType=DOWNLOAD\", show_col_types = FALSE,\n",
        "  col_types = list(\n",
        "    hh_id = \"c\",        # Household ID as character\n",
        "    person_id = \"c\",    # Person ID as character\n",
        "    day_id = \"c\"        # Day ID as character\n",
        "  ))"
      ]
    },
    {
      "cell_type": "markdown",
      "source": [
        "To begin our analysis, we'll examine the gender variable in the person table to understand its distribution among participants.\n",
        "\n",
        "It's essential to consider both the raw count of participants and their corresponding weights, especially when we are analyzing subgroups. When dealing with a small raw number of observations, it is crucial to exercise greater caution and scrutiny when interpreting the results, as small sample sizes can potentially lead to less reliable or less representative findings\n",
        "\n",
        "In this case, we'll utilize the person_weight column, which represents the appropriate weights for each participant."
      ],
      "metadata": {
        "id": "amTLAugm5N_-"
      }
    },
    {
      "cell_type": "code",
      "source": [
        "dfPerson %>%\n",
        "  # Filter out rows where person_weight is 0 or less\n",
        "  filter(person_weight > 0) %>%\n",
        "  # Group the data by gender\n",
        "  group_by(gender) %>%\n",
        "  # Summarize the data by calculating the count of individuals and the sum of person_weight\n",
        "  summarize(\n",
        "    count = n(),                             # Count the number of individuals in each gender group\n",
        "    weighted_sum = sum(person_weight, na.rm = TRUE)  # Calculate the sum of person_weight for each gender group, ignoring NA values\n",
        "  )"
      ],
      "metadata": {
        "colab": {
          "base_uri": "https://localhost:8080/",
          "height": 286
        },
        "id": "oZtL-d975Nrf",
        "outputId": "60adbe1a-dba2-425c-aca8-8327cccc59eb"
      },
      "execution_count": null,
      "outputs": [
        {
          "output_type": "display_data",
          "data": {
            "text/html": [
              "<table class=\"dataframe\">\n",
              "<caption>A tibble: 6 × 3</caption>\n",
              "<thead>\n",
              "\t<tr><th scope=col>gender</th><th scope=col>count</th><th scope=col>weighted_sum</th></tr>\n",
              "\t<tr><th scope=col>&lt;dbl&gt;</th><th scope=col>&lt;int&gt;</th><th scope=col>&lt;dbl&gt;</th></tr>\n",
              "</thead>\n",
              "<tbody>\n",
              "\t<tr><td>  1</td><td>1547</td><td>3101551.451</td></tr>\n",
              "\t<tr><td>  2</td><td>1276</td><td>3105463.571</td></tr>\n",
              "\t<tr><td>  4</td><td>  34</td><td>  55416.280</td></tr>\n",
              "\t<tr><td>  5</td><td>   3</td><td>   2843.995</td></tr>\n",
              "\t<tr><td>997</td><td>   5</td><td>  18211.011</td></tr>\n",
              "\t<tr><td>999</td><td> 101</td><td> 316324.479</td></tr>\n",
              "</tbody>\n",
              "</table>\n"
            ],
            "text/markdown": "\nA tibble: 6 × 3\n\n| gender &lt;dbl&gt; | count &lt;int&gt; | weighted_sum &lt;dbl&gt; |\n|---|---|---|\n|   1 | 1547 | 3101551.451 |\n|   2 | 1276 | 3105463.571 |\n|   4 |   34 |   55416.280 |\n|   5 |    3 |    2843.995 |\n| 997 |    5 |   18211.011 |\n| 999 |  101 |  316324.479 |\n\n",
            "text/latex": "A tibble: 6 × 3\n\\begin{tabular}{lll}\n gender & count & weighted\\_sum\\\\\n <dbl> & <int> & <dbl>\\\\\n\\hline\n\t   1 & 1547 & 3101551.451\\\\\n\t   2 & 1276 & 3105463.571\\\\\n\t   4 &   34 &   55416.280\\\\\n\t   5 &    3 &    2843.995\\\\\n\t 997 &    5 &   18211.011\\\\\n\t 999 &  101 &  316324.479\\\\\n\\end{tabular}\n",
            "text/plain": [
              "  gender count weighted_sum\n",
              "1   1    1547  3101551.451 \n",
              "2   2    1276  3105463.571 \n",
              "3   4      34    55416.280 \n",
              "4   5       3     2843.995 \n",
              "5 997       5    18211.011 \n",
              "6 999     101   316324.479 "
            ]
          },
          "metadata": {}
        }
      ]
    },
    {
      "cell_type": "markdown",
      "metadata": {
        "id": "5E58TRZVMubR"
      },
      "source": [
        "## Codebook\n",
        "\n",
        "Without data lables, we cannot understand the data completely. The variables are recorded using codes in the data, and we refer to the codebook to obtain the labels for the factors.\n",
        "\n",
        "In this step, we will use the codebook to add labels to the variables.\n",
        "\n",
        "Download the codebook from Open Data (attachment to all 2022 tables). Then go to ***Files*** on the left panel, and click on ***Upload to session storage*** to upload it to your session.\n"
      ]
    },
    {
      "cell_type": "code",
      "source": [
        "# Load the variable descriptions from the \"variable_list\" sheet of the Excel file\n",
        "var_desc = read_excel(\"2022_NYC_CMS_Codebook.xlsx\",\n",
        "    sheet = \"variable_list\")\n",
        "\n",
        "# Display the first few rows of the variable descriptions\n",
        "var_desc %>%\n",
        "  head()\n",
        "\n",
        "# Load the value labels from the \"value_labels\" sheet of the Excel file\n",
        "# Specify the column types, setting the \"value\" column as text\n",
        "value_labels = read_excel(\"2022_NYC_CMS_Codebook.xlsx\",\n",
        "    sheet = \"value_labels\",\n",
        "    col_types = c(\n",
        "    \"value\" = \"text\"\n",
        "    ))\n",
        "\n",
        "# Display the first few rows of the value labels\n",
        "value_labels %>%\n",
        "  head()"
      ],
      "metadata": {
        "colab": {
          "base_uri": "https://localhost:8080/",
          "height": 573
        },
        "id": "aHpYFpfENv4c",
        "outputId": "2ffd9d68-ecae-440c-bd2c-09846fe5c54b"
      },
      "execution_count": null,
      "outputs": [
        {
          "output_type": "display_data",
          "data": {
            "text/html": [
              "<table class=\"dataframe\">\n",
              "<caption>A tibble: 6 × 13</caption>\n",
              "<thead>\n",
              "\t<tr><th scope=col>sort</th><th scope=col>source</th><th scope=col>variable</th><th scope=col>is_checkbox</th><th scope=col>hh</th><th scope=col>person</th><th scope=col>day</th><th scope=col>trip</th><th scope=col>vehicle</th><th scope=col>location</th><th scope=col>data_type</th><th scope=col>description</th><th scope=col>var_logic</th></tr>\n",
              "\t<tr><th scope=col>&lt;dbl&gt;</th><th scope=col>&lt;chr&gt;</th><th scope=col>&lt;chr&gt;</th><th scope=col>&lt;dbl&gt;</th><th scope=col>&lt;dbl&gt;</th><th scope=col>&lt;dbl&gt;</th><th scope=col>&lt;dbl&gt;</th><th scope=col>&lt;dbl&gt;</th><th scope=col>&lt;dbl&gt;</th><th scope=col>&lt;dbl&gt;</th><th scope=col>&lt;chr&gt;</th><th scope=col>&lt;chr&gt;</th><th scope=col>&lt;chr&gt;</th></tr>\n",
              "</thead>\n",
              "<tbody>\n",
              "\t<tr><td>1</td><td>pipeline</td><td>hh_id              </td><td>0</td><td>1</td><td>1</td><td>1</td><td>1</td><td>1</td><td>0</td><td>numeric            </td><td>Household ID                           </td><td>NA</td></tr>\n",
              "\t<tr><td>2</td><td>pipeline</td><td>sample_segment     </td><td>0</td><td>1</td><td>0</td><td>0</td><td>0</td><td>0</td><td>0</td><td>integer/categorical</td><td>Sample segment                         </td><td>NA</td></tr>\n",
              "\t<tr><td>3</td><td>pipeline</td><td>hh_cms_zone        </td><td>0</td><td>1</td><td>0</td><td>0</td><td>0</td><td>0</td><td>0</td><td>integer/categorical</td><td>Sample segment - 2019 reinvites recoded</td><td>NA</td></tr>\n",
              "\t<tr><td>4</td><td>pipeline</td><td>hh_cms_zone_gp     </td><td>0</td><td>1</td><td>0</td><td>0</td><td>0</td><td>0</td><td>0</td><td>integer/categorical</td><td>Sample segment - grouped               </td><td>NA</td></tr>\n",
              "\t<tr><td>5</td><td>pipeline</td><td>participation_group</td><td>0</td><td>1</td><td>0</td><td>0</td><td>0</td><td>0</td><td>0</td><td>integer/categorical</td><td>Participation group                    </td><td>NA</td></tr>\n",
              "\t<tr><td>6</td><td>pipeline</td><td>signup_platform    </td><td>0</td><td>1</td><td>0</td><td>0</td><td>0</td><td>0</td><td>0</td><td>integer/categorical</td><td>Signup survey platform                 </td><td>NA</td></tr>\n",
              "</tbody>\n",
              "</table>\n"
            ],
            "text/markdown": "\nA tibble: 6 × 13\n\n| sort &lt;dbl&gt; | source &lt;chr&gt; | variable &lt;chr&gt; | is_checkbox &lt;dbl&gt; | hh &lt;dbl&gt; | person &lt;dbl&gt; | day &lt;dbl&gt; | trip &lt;dbl&gt; | vehicle &lt;dbl&gt; | location &lt;dbl&gt; | data_type &lt;chr&gt; | description &lt;chr&gt; | var_logic &lt;chr&gt; |\n|---|---|---|---|---|---|---|---|---|---|---|---|---|\n| 1 | pipeline | hh_id               | 0 | 1 | 1 | 1 | 1 | 1 | 0 | numeric             | Household ID                            | NA |\n| 2 | pipeline | sample_segment      | 0 | 1 | 0 | 0 | 0 | 0 | 0 | integer/categorical | Sample segment                          | NA |\n| 3 | pipeline | hh_cms_zone         | 0 | 1 | 0 | 0 | 0 | 0 | 0 | integer/categorical | Sample segment - 2019 reinvites recoded | NA |\n| 4 | pipeline | hh_cms_zone_gp      | 0 | 1 | 0 | 0 | 0 | 0 | 0 | integer/categorical | Sample segment - grouped                | NA |\n| 5 | pipeline | participation_group | 0 | 1 | 0 | 0 | 0 | 0 | 0 | integer/categorical | Participation group                     | NA |\n| 6 | pipeline | signup_platform     | 0 | 1 | 0 | 0 | 0 | 0 | 0 | integer/categorical | Signup survey platform                  | NA |\n\n",
            "text/latex": "A tibble: 6 × 13\n\\begin{tabular}{lllllllllllll}\n sort & source & variable & is\\_checkbox & hh & person & day & trip & vehicle & location & data\\_type & description & var\\_logic\\\\\n <dbl> & <chr> & <chr> & <dbl> & <dbl> & <dbl> & <dbl> & <dbl> & <dbl> & <dbl> & <chr> & <chr> & <chr>\\\\\n\\hline\n\t 1 & pipeline & hh\\_id               & 0 & 1 & 1 & 1 & 1 & 1 & 0 & numeric             & Household ID                            & NA\\\\\n\t 2 & pipeline & sample\\_segment      & 0 & 1 & 0 & 0 & 0 & 0 & 0 & integer/categorical & Sample segment                          & NA\\\\\n\t 3 & pipeline & hh\\_cms\\_zone         & 0 & 1 & 0 & 0 & 0 & 0 & 0 & integer/categorical & Sample segment - 2019 reinvites recoded & NA\\\\\n\t 4 & pipeline & hh\\_cms\\_zone\\_gp      & 0 & 1 & 0 & 0 & 0 & 0 & 0 & integer/categorical & Sample segment - grouped                & NA\\\\\n\t 5 & pipeline & participation\\_group & 0 & 1 & 0 & 0 & 0 & 0 & 0 & integer/categorical & Participation group                     & NA\\\\\n\t 6 & pipeline & signup\\_platform     & 0 & 1 & 0 & 0 & 0 & 0 & 0 & integer/categorical & Signup survey platform                  & NA\\\\\n\\end{tabular}\n",
            "text/plain": [
              "  sort source   variable            is_checkbox hh person day trip vehicle\n",
              "1 1    pipeline hh_id               0           1  1      1   1    1      \n",
              "2 2    pipeline sample_segment      0           1  0      0   0    0      \n",
              "3 3    pipeline hh_cms_zone         0           1  0      0   0    0      \n",
              "4 4    pipeline hh_cms_zone_gp      0           1  0      0   0    0      \n",
              "5 5    pipeline participation_group 0           1  0      0   0    0      \n",
              "6 6    pipeline signup_platform     0           1  0      0   0    0      \n",
              "  location data_type           description                            \n",
              "1 0        numeric             Household ID                           \n",
              "2 0        integer/categorical Sample segment                         \n",
              "3 0        integer/categorical Sample segment - 2019 reinvites recoded\n",
              "4 0        integer/categorical Sample segment - grouped               \n",
              "5 0        integer/categorical Participation group                    \n",
              "6 0        integer/categorical Signup survey platform                 \n",
              "  var_logic\n",
              "1 NA       \n",
              "2 NA       \n",
              "3 NA       \n",
              "4 NA       \n",
              "5 NA       \n",
              "6 NA       "
            ]
          },
          "metadata": {}
        },
        {
          "output_type": "display_data",
          "data": {
            "text/html": [
              "<table class=\"dataframe\">\n",
              "<caption>A tibble: 6 × 4</caption>\n",
              "<thead>\n",
              "\t<tr><th scope=col>variable</th><th scope=col>value</th><th scope=col>label</th><th scope=col>logic_text</th></tr>\n",
              "\t<tr><th scope=col>&lt;chr&gt;</th><th scope=col>&lt;chr&gt;</th><th scope=col>&lt;chr&gt;</th><th scope=col>&lt;chr&gt;</th></tr>\n",
              "</thead>\n",
              "<tbody>\n",
              "\t<tr><td>age</td><td>1</td><td>Under 5</td><td>If not hh member 1</td></tr>\n",
              "\t<tr><td>age</td><td>2</td><td>5-15   </td><td>If not hh member 1</td></tr>\n",
              "\t<tr><td>age</td><td>3</td><td>16-17  </td><td>If not hh member 1</td></tr>\n",
              "\t<tr><td>age</td><td>4</td><td>18-24  </td><td>NA                </td></tr>\n",
              "\t<tr><td>age</td><td>5</td><td>25-34  </td><td>NA                </td></tr>\n",
              "\t<tr><td>age</td><td>6</td><td>35-44  </td><td>NA                </td></tr>\n",
              "</tbody>\n",
              "</table>\n"
            ],
            "text/markdown": "\nA tibble: 6 × 4\n\n| variable &lt;chr&gt; | value &lt;chr&gt; | label &lt;chr&gt; | logic_text &lt;chr&gt; |\n|---|---|---|---|\n| age | 1 | Under 5 | If not hh member 1 |\n| age | 2 | 5-15    | If not hh member 1 |\n| age | 3 | 16-17   | If not hh member 1 |\n| age | 4 | 18-24   | NA                 |\n| age | 5 | 25-34   | NA                 |\n| age | 6 | 35-44   | NA                 |\n\n",
            "text/latex": "A tibble: 6 × 4\n\\begin{tabular}{llll}\n variable & value & label & logic\\_text\\\\\n <chr> & <chr> & <chr> & <chr>\\\\\n\\hline\n\t age & 1 & Under 5 & If not hh member 1\\\\\n\t age & 2 & 5-15    & If not hh member 1\\\\\n\t age & 3 & 16-17   & If not hh member 1\\\\\n\t age & 4 & 18-24   & NA                \\\\\n\t age & 5 & 25-34   & NA                \\\\\n\t age & 6 & 35-44   & NA                \\\\\n\\end{tabular}\n",
            "text/plain": [
              "  variable value label   logic_text        \n",
              "1 age      1     Under 5 If not hh member 1\n",
              "2 age      2     5-15    If not hh member 1\n",
              "3 age      3     16-17   If not hh member 1\n",
              "4 age      4     18-24   NA                \n",
              "5 age      5     25-34   NA                \n",
              "6 age      6     35-44   NA                "
            ]
          },
          "metadata": {}
        }
      ]
    },
    {
      "cell_type": "markdown",
      "source": [
        "To use the labels for this training, we subset for the variable of interest. Here, we use gender, bike frequncy, and trip mode type variables. Start by storing the corresponding labels in labs.gender, labs.bikefreq, and labs.mode, and review the lables:"
      ],
      "metadata": {
        "id": "ZRfPymmlNwiE"
      }
    },
    {
      "cell_type": "code",
      "execution_count": null,
      "metadata": {
        "colab": {
          "base_uri": "https://localhost:8080/",
          "height": 1000
        },
        "id": "2XZ9dAAFv4MH",
        "outputId": "4d06384e-b9ee-42e9-b1a1-6fe498121a60"
      },
      "outputs": [
        {
          "output_type": "display_data",
          "data": {
            "text/html": [
              "<table class=\"dataframe\">\n",
              "<caption>A tibble: 7 × 4</caption>\n",
              "<thead>\n",
              "\t<tr><th scope=col>variable</th><th scope=col>value</th><th scope=col>label</th><th scope=col>logic_text</th></tr>\n",
              "\t<tr><th scope=col>&lt;chr&gt;</th><th scope=col>&lt;chr&gt;</th><th scope=col>&lt;chr&gt;</th><th scope=col>&lt;chr&gt;</th></tr>\n",
              "</thead>\n",
              "<tbody>\n",
              "\t<tr><td>gender</td><td>1  </td><td>Woman                  </td><td>NA</td></tr>\n",
              "\t<tr><td>gender</td><td>2  </td><td>Man                    </td><td>NA</td></tr>\n",
              "\t<tr><td>gender</td><td>4  </td><td>Non-binary             </td><td>NA</td></tr>\n",
              "\t<tr><td>gender</td><td>5  </td><td>Prefer to self-describe</td><td>NA</td></tr>\n",
              "\t<tr><td>gender</td><td>995</td><td>Missing response       </td><td>NA</td></tr>\n",
              "\t<tr><td>gender</td><td>997</td><td>Other                  </td><td>NA</td></tr>\n",
              "\t<tr><td>gender</td><td>999</td><td>Prefer not to answer   </td><td>NA</td></tr>\n",
              "</tbody>\n",
              "</table>\n"
            ],
            "text/markdown": "\nA tibble: 7 × 4\n\n| variable &lt;chr&gt; | value &lt;chr&gt; | label &lt;chr&gt; | logic_text &lt;chr&gt; |\n|---|---|---|---|\n| gender | 1   | Woman                   | NA |\n| gender | 2   | Man                     | NA |\n| gender | 4   | Non-binary              | NA |\n| gender | 5   | Prefer to self-describe | NA |\n| gender | 995 | Missing response        | NA |\n| gender | 997 | Other                   | NA |\n| gender | 999 | Prefer not to answer    | NA |\n\n",
            "text/latex": "A tibble: 7 × 4\n\\begin{tabular}{llll}\n variable & value & label & logic\\_text\\\\\n <chr> & <chr> & <chr> & <chr>\\\\\n\\hline\n\t gender & 1   & Woman                   & NA\\\\\n\t gender & 2   & Man                     & NA\\\\\n\t gender & 4   & Non-binary              & NA\\\\\n\t gender & 5   & Prefer to self-describe & NA\\\\\n\t gender & 995 & Missing response        & NA\\\\\n\t gender & 997 & Other                   & NA\\\\\n\t gender & 999 & Prefer not to answer    & NA\\\\\n\\end{tabular}\n",
            "text/plain": [
              "  variable value label                   logic_text\n",
              "1 gender   1     Woman                   NA        \n",
              "2 gender   2     Man                     NA        \n",
              "3 gender   4     Non-binary              NA        \n",
              "4 gender   5     Prefer to self-describe NA        \n",
              "5 gender   995   Missing response        NA        \n",
              "6 gender   997   Other                   NA        \n",
              "7 gender   999   Prefer not to answer    NA        "
            ]
          },
          "metadata": {}
        },
        {
          "output_type": "display_data",
          "data": {
            "text/html": [
              "<table class=\"dataframe\">\n",
              "<caption>A tibble: 8 × 4</caption>\n",
              "<thead>\n",
              "\t<tr><th scope=col>variable</th><th scope=col>value</th><th scope=col>label</th><th scope=col>logic_text</th></tr>\n",
              "\t<tr><th scope=col>&lt;chr&gt;</th><th scope=col>&lt;chr&gt;</th><th scope=col>&lt;chr&gt;</th><th scope=col>&lt;chr&gt;</th></tr>\n",
              "</thead>\n",
              "<tbody>\n",
              "\t<tr><td>bike_freq</td><td>1  </td><td>5 or more days a week</td><td>NA</td></tr>\n",
              "\t<tr><td>bike_freq</td><td>2  </td><td>4 days a week        </td><td>NA</td></tr>\n",
              "\t<tr><td>bike_freq</td><td>3  </td><td>2-3 days a week      </td><td>NA</td></tr>\n",
              "\t<tr><td>bike_freq</td><td>4  </td><td>1 day a week         </td><td>NA</td></tr>\n",
              "\t<tr><td>bike_freq</td><td>5  </td><td>1-3 days a month     </td><td>NA</td></tr>\n",
              "\t<tr><td>bike_freq</td><td>6  </td><td>Less than monthly    </td><td>NA</td></tr>\n",
              "\t<tr><td>bike_freq</td><td>995</td><td>Missing response     </td><td>NA</td></tr>\n",
              "\t<tr><td>bike_freq</td><td>996</td><td>Never                </td><td>NA</td></tr>\n",
              "</tbody>\n",
              "</table>\n"
            ],
            "text/markdown": "\nA tibble: 8 × 4\n\n| variable &lt;chr&gt; | value &lt;chr&gt; | label &lt;chr&gt; | logic_text &lt;chr&gt; |\n|---|---|---|---|\n| bike_freq | 1   | 5 or more days a week | NA |\n| bike_freq | 2   | 4 days a week         | NA |\n| bike_freq | 3   | 2-3 days a week       | NA |\n| bike_freq | 4   | 1 day a week          | NA |\n| bike_freq | 5   | 1-3 days a month      | NA |\n| bike_freq | 6   | Less than monthly     | NA |\n| bike_freq | 995 | Missing response      | NA |\n| bike_freq | 996 | Never                 | NA |\n\n",
            "text/latex": "A tibble: 8 × 4\n\\begin{tabular}{llll}\n variable & value & label & logic\\_text\\\\\n <chr> & <chr> & <chr> & <chr>\\\\\n\\hline\n\t bike\\_freq & 1   & 5 or more days a week & NA\\\\\n\t bike\\_freq & 2   & 4 days a week         & NA\\\\\n\t bike\\_freq & 3   & 2-3 days a week       & NA\\\\\n\t bike\\_freq & 4   & 1 day a week          & NA\\\\\n\t bike\\_freq & 5   & 1-3 days a month      & NA\\\\\n\t bike\\_freq & 6   & Less than monthly     & NA\\\\\n\t bike\\_freq & 995 & Missing response      & NA\\\\\n\t bike\\_freq & 996 & Never                 & NA\\\\\n\\end{tabular}\n",
            "text/plain": [
              "  variable  value label                 logic_text\n",
              "1 bike_freq 1     5 or more days a week NA        \n",
              "2 bike_freq 2     4 days a week         NA        \n",
              "3 bike_freq 3     2-3 days a week       NA        \n",
              "4 bike_freq 4     1 day a week          NA        \n",
              "5 bike_freq 5     1-3 days a month      NA        \n",
              "6 bike_freq 6     Less than monthly     NA        \n",
              "7 bike_freq 995   Missing response      NA        \n",
              "8 bike_freq 996   Never                 NA        "
            ]
          },
          "metadata": {}
        },
        {
          "output_type": "display_data",
          "data": {
            "text/html": [
              "<table class=\"dataframe\">\n",
              "<caption>A tibble: 12 × 4</caption>\n",
              "<thead>\n",
              "\t<tr><th scope=col>variable</th><th scope=col>value</th><th scope=col>label</th><th scope=col>logic_text</th></tr>\n",
              "\t<tr><th scope=col>&lt;chr&gt;</th><th scope=col>&lt;chr&gt;</th><th scope=col>&lt;chr&gt;</th><th scope=col>&lt;chr&gt;</th></tr>\n",
              "</thead>\n",
              "<tbody>\n",
              "\t<tr><td>mode_type_nyc</td><td>1  </td><td>For-Hire Vehicle    </td><td>NA</td></tr>\n",
              "\t<tr><td>mode_type_nyc</td><td>2  </td><td>For-Hire Vehicle TNC</td><td>NA</td></tr>\n",
              "\t<tr><td>mode_type_nyc</td><td>3  </td><td>Commuter Rail       </td><td>NA</td></tr>\n",
              "\t<tr><td>mode_type_nyc</td><td>4  </td><td>Bus                 </td><td>NA</td></tr>\n",
              "\t<tr><td>mode_type_nyc</td><td>5  </td><td>Ferry               </td><td>NA</td></tr>\n",
              "\t<tr><td>mode_type_nyc</td><td>6  </td><td>Subway              </td><td>NA</td></tr>\n",
              "\t<tr><td>mode_type_nyc</td><td>7  </td><td>Vehicle             </td><td>NA</td></tr>\n",
              "\t<tr><td>mode_type_nyc</td><td>8  </td><td>Bike                </td><td>NA</td></tr>\n",
              "\t<tr><td>mode_type_nyc</td><td>9  </td><td>Walk                </td><td>NA</td></tr>\n",
              "\t<tr><td>mode_type_nyc</td><td>10 </td><td>Other               </td><td>NA</td></tr>\n",
              "\t<tr><td>mode_type_nyc</td><td>11 </td><td>Micromobility       </td><td>NA</td></tr>\n",
              "\t<tr><td>mode_type_nyc</td><td>995</td><td>Missing response    </td><td>NA</td></tr>\n",
              "</tbody>\n",
              "</table>\n"
            ],
            "text/markdown": "\nA tibble: 12 × 4\n\n| variable &lt;chr&gt; | value &lt;chr&gt; | label &lt;chr&gt; | logic_text &lt;chr&gt; |\n|---|---|---|---|\n| mode_type_nyc | 1   | For-Hire Vehicle     | NA |\n| mode_type_nyc | 2   | For-Hire Vehicle TNC | NA |\n| mode_type_nyc | 3   | Commuter Rail        | NA |\n| mode_type_nyc | 4   | Bus                  | NA |\n| mode_type_nyc | 5   | Ferry                | NA |\n| mode_type_nyc | 6   | Subway               | NA |\n| mode_type_nyc | 7   | Vehicle              | NA |\n| mode_type_nyc | 8   | Bike                 | NA |\n| mode_type_nyc | 9   | Walk                 | NA |\n| mode_type_nyc | 10  | Other                | NA |\n| mode_type_nyc | 11  | Micromobility        | NA |\n| mode_type_nyc | 995 | Missing response     | NA |\n\n",
            "text/latex": "A tibble: 12 × 4\n\\begin{tabular}{llll}\n variable & value & label & logic\\_text\\\\\n <chr> & <chr> & <chr> & <chr>\\\\\n\\hline\n\t mode\\_type\\_nyc & 1   & For-Hire Vehicle     & NA\\\\\n\t mode\\_type\\_nyc & 2   & For-Hire Vehicle TNC & NA\\\\\n\t mode\\_type\\_nyc & 3   & Commuter Rail        & NA\\\\\n\t mode\\_type\\_nyc & 4   & Bus                  & NA\\\\\n\t mode\\_type\\_nyc & 5   & Ferry                & NA\\\\\n\t mode\\_type\\_nyc & 6   & Subway               & NA\\\\\n\t mode\\_type\\_nyc & 7   & Vehicle              & NA\\\\\n\t mode\\_type\\_nyc & 8   & Bike                 & NA\\\\\n\t mode\\_type\\_nyc & 9   & Walk                 & NA\\\\\n\t mode\\_type\\_nyc & 10  & Other                & NA\\\\\n\t mode\\_type\\_nyc & 11  & Micromobility        & NA\\\\\n\t mode\\_type\\_nyc & 995 & Missing response     & NA\\\\\n\\end{tabular}\n",
            "text/plain": [
              "   variable      value label                logic_text\n",
              "1  mode_type_nyc 1     For-Hire Vehicle     NA        \n",
              "2  mode_type_nyc 2     For-Hire Vehicle TNC NA        \n",
              "3  mode_type_nyc 3     Commuter Rail        NA        \n",
              "4  mode_type_nyc 4     Bus                  NA        \n",
              "5  mode_type_nyc 5     Ferry                NA        \n",
              "6  mode_type_nyc 6     Subway               NA        \n",
              "7  mode_type_nyc 7     Vehicle              NA        \n",
              "8  mode_type_nyc 8     Bike                 NA        \n",
              "9  mode_type_nyc 9     Walk                 NA        \n",
              "10 mode_type_nyc 10    Other                NA        \n",
              "11 mode_type_nyc 11    Micromobility        NA        \n",
              "12 mode_type_nyc 995   Missing response     NA        "
            ]
          },
          "metadata": {}
        }
      ],
      "source": [
        "labs.gender = filter(value_labels, variable == \"gender\")\n",
        "labs.gender\n",
        "\n",
        "labs.bikefreq = filter(value_labels, variable == \"bike_freq\")\n",
        "labs.bikefreq\n",
        "\n",
        "labs.mode = filter(value_labels, variable == \"mode_type_nyc\")\n",
        "labs.mode"
      ]
    },
    {
      "cell_type": "markdown",
      "metadata": {
        "id": "wC8w0S6xxuIE"
      },
      "source": [
        "For single response variables, we can convert the variable to a labeled factor. Multiple response categorical variables have to be handled differently, as shown below."
      ]
    },
    {
      "cell_type": "code",
      "execution_count": null,
      "metadata": {
        "id": "ZWGRuxLmxvmT",
        "collapsed": true
      },
      "outputs": [],
      "source": [
        "# Mutate dfPerson to create factor variables for gender and bike frequency\n",
        "dfPerson = dfPerson %>%\n",
        "  mutate(\n",
        "    gender_f = factor(                     # Create a factor variable for gender\n",
        "      gender,                              # Original gender variable\n",
        "      levels = labs.gender$value,          # Specify levels using values from labs.gender\n",
        "      labels = labs.gender$label           # Specify labels using labels from labs.gender\n",
        "    ),\n",
        "    bikefreq_f = factor(                   # Create a factor variable for bike frequency\n",
        "      bike_freq,                           # Original bike_freq variable\n",
        "      levels = labs.bikefreq$value,        # Specify levels using values from labs.bikefreq\n",
        "      labels = labs.bikefreq$label         # Specify labels using labels from labs.bikefreq\n",
        "    )\n",
        "  )"
      ]
    },
    {
      "cell_type": "markdown",
      "source": [
        "Let's go back to the distribution of gender in the whole dataset:"
      ],
      "metadata": {
        "id": "btUEfB6zmfC1"
      }
    },
    {
      "cell_type": "code",
      "source": [
        "dfPerson %>%\n",
        "  # Filter out rows where person_weight is 0 or less\n",
        "  filter(person_weight > 0) %>%\n",
        "  # Group the data by both gender and the factor version of gender (gender_f)\n",
        "  group_by(gender, gender_f) %>%\n",
        "  # Summarize the data by calculating the count of individuals and the sum of person_weight\n",
        "  summarize(\n",
        "    count = n(),                                     # Count the number of individuals in each gender group\n",
        "    weighted_sum = sum(person_weight, na.rm = TRUE), # Calculate the sum of person_weight for each gender group, ignoring NA values\n",
        "    .groups = 'drop' )                               # Drop the grouping after summarizing"
      ],
      "metadata": {
        "colab": {
          "base_uri": "https://localhost:8080/",
          "height": 286
        },
        "id": "JzxM3M9KmfuY",
        "outputId": "3c0d1d26-e0ba-4d46-bdac-cbb11b2d132b"
      },
      "execution_count": null,
      "outputs": [
        {
          "output_type": "display_data",
          "data": {
            "text/html": [
              "<table class=\"dataframe\">\n",
              "<caption>A tibble: 6 × 4</caption>\n",
              "<thead>\n",
              "\t<tr><th scope=col>gender</th><th scope=col>gender_f</th><th scope=col>count</th><th scope=col>weighted_sum</th></tr>\n",
              "\t<tr><th scope=col>&lt;dbl&gt;</th><th scope=col>&lt;fct&gt;</th><th scope=col>&lt;int&gt;</th><th scope=col>&lt;dbl&gt;</th></tr>\n",
              "</thead>\n",
              "<tbody>\n",
              "\t<tr><td>  1</td><td>Woman                  </td><td>1547</td><td>3101551.451</td></tr>\n",
              "\t<tr><td>  2</td><td>Man                    </td><td>1276</td><td>3105463.571</td></tr>\n",
              "\t<tr><td>  4</td><td>Non-binary             </td><td>  34</td><td>  55416.280</td></tr>\n",
              "\t<tr><td>  5</td><td>Prefer to self-describe</td><td>   3</td><td>   2843.995</td></tr>\n",
              "\t<tr><td>997</td><td>Other                  </td><td>   5</td><td>  18211.011</td></tr>\n",
              "\t<tr><td>999</td><td>Prefer not to answer   </td><td> 101</td><td> 316324.479</td></tr>\n",
              "</tbody>\n",
              "</table>\n"
            ],
            "text/markdown": "\nA tibble: 6 × 4\n\n| gender &lt;dbl&gt; | gender_f &lt;fct&gt; | count &lt;int&gt; | weighted_sum &lt;dbl&gt; |\n|---|---|---|---|\n|   1 | Woman                   | 1547 | 3101551.451 |\n|   2 | Man                     | 1276 | 3105463.571 |\n|   4 | Non-binary              |   34 |   55416.280 |\n|   5 | Prefer to self-describe |    3 |    2843.995 |\n| 997 | Other                   |    5 |   18211.011 |\n| 999 | Prefer not to answer    |  101 |  316324.479 |\n\n",
            "text/latex": "A tibble: 6 × 4\n\\begin{tabular}{llll}\n gender & gender\\_f & count & weighted\\_sum\\\\\n <dbl> & <fct> & <int> & <dbl>\\\\\n\\hline\n\t   1 & Woman                   & 1547 & 3101551.451\\\\\n\t   2 & Man                     & 1276 & 3105463.571\\\\\n\t   4 & Non-binary              &   34 &   55416.280\\\\\n\t   5 & Prefer to self-describe &    3 &    2843.995\\\\\n\t 997 & Other                   &    5 &   18211.011\\\\\n\t 999 & Prefer not to answer    &  101 &  316324.479\\\\\n\\end{tabular}\n",
            "text/plain": [
              "  gender gender_f                count weighted_sum\n",
              "1   1    Woman                   1547  3101551.451 \n",
              "2   2    Man                     1276  3105463.571 \n",
              "3   4    Non-binary                34    55416.280 \n",
              "4   5    Prefer to self-describe    3     2843.995 \n",
              "5 997    Other                      5    18211.011 \n",
              "6 999    Prefer not to answer     101   316324.479 "
            ]
          },
          "metadata": {}
        }
      ]
    },
    {
      "cell_type": "markdown",
      "source": [
        "Now take a look at the general biking frequncy among New Yorkers:"
      ],
      "metadata": {
        "id": "EZUy4D8hmsNP"
      }
    },
    {
      "cell_type": "code",
      "source": [
        "dfPerson %>%\n",
        "  # Filter out rows where person_weight is 0 or less\n",
        "  filter(person_weight > 0) %>%\n",
        "  # Group the data by both the original bike frequency and the factor version of bike frequency (bikefreq_f)\n",
        "  group_by(bike_freq, bikefreq_f) %>%\n",
        "  # Summarize the data by calculating the count of individuals and the sum of person_weight\n",
        "  summarize(\n",
        "    count = n(),                             # Count the number of individuals in each bike frequency group\n",
        "    weighted_sum = sum(person_weight, na.rm = TRUE),  # Calculate the sum of person_weight for each bike frequency group, ignoring NA values\n",
        "    .groups = 'drop'                         # Drop the grouping after summarizing\n",
        "  )"
      ],
      "metadata": {
        "colab": {
          "base_uri": "https://localhost:8080/",
          "height": 349
        },
        "id": "velWp-Bwmsqn",
        "outputId": "43599f56-e64d-4749-efb8-e3caa0d3ea52"
      },
      "execution_count": null,
      "outputs": [
        {
          "output_type": "display_data",
          "data": {
            "text/html": [
              "<table class=\"dataframe\">\n",
              "<caption>A tibble: 8 × 4</caption>\n",
              "<thead>\n",
              "\t<tr><th scope=col>bike_freq</th><th scope=col>bikefreq_f</th><th scope=col>count</th><th scope=col>weighted_sum</th></tr>\n",
              "\t<tr><th scope=col>&lt;dbl&gt;</th><th scope=col>&lt;fct&gt;</th><th scope=col>&lt;int&gt;</th><th scope=col>&lt;dbl&gt;</th></tr>\n",
              "</thead>\n",
              "<tbody>\n",
              "\t<tr><td>  1</td><td>5 or more days a week</td><td> 139</td><td> 330266.6</td></tr>\n",
              "\t<tr><td>  2</td><td>4 days a week        </td><td>  59</td><td> 111964.8</td></tr>\n",
              "\t<tr><td>  3</td><td>2-3 days a week      </td><td> 152</td><td> 332786.5</td></tr>\n",
              "\t<tr><td>  4</td><td>1 day a week         </td><td> 108</td><td> 264577.2</td></tr>\n",
              "\t<tr><td>  5</td><td>1-3 days a month     </td><td> 212</td><td> 522205.4</td></tr>\n",
              "\t<tr><td>  6</td><td>Less than monthly    </td><td> 544</td><td>1137866.7</td></tr>\n",
              "\t<tr><td>995</td><td>Missing response     </td><td>  28</td><td> 143877.5</td></tr>\n",
              "\t<tr><td>996</td><td>Never                </td><td>1724</td><td>3756266.0</td></tr>\n",
              "</tbody>\n",
              "</table>\n"
            ],
            "text/markdown": "\nA tibble: 8 × 4\n\n| bike_freq &lt;dbl&gt; | bikefreq_f &lt;fct&gt; | count &lt;int&gt; | weighted_sum &lt;dbl&gt; |\n|---|---|---|---|\n|   1 | 5 or more days a week |  139 |  330266.6 |\n|   2 | 4 days a week         |   59 |  111964.8 |\n|   3 | 2-3 days a week       |  152 |  332786.5 |\n|   4 | 1 day a week          |  108 |  264577.2 |\n|   5 | 1-3 days a month      |  212 |  522205.4 |\n|   6 | Less than monthly     |  544 | 1137866.7 |\n| 995 | Missing response      |   28 |  143877.5 |\n| 996 | Never                 | 1724 | 3756266.0 |\n\n",
            "text/latex": "A tibble: 8 × 4\n\\begin{tabular}{llll}\n bike\\_freq & bikefreq\\_f & count & weighted\\_sum\\\\\n <dbl> & <fct> & <int> & <dbl>\\\\\n\\hline\n\t   1 & 5 or more days a week &  139 &  330266.6\\\\\n\t   2 & 4 days a week         &   59 &  111964.8\\\\\n\t   3 & 2-3 days a week       &  152 &  332786.5\\\\\n\t   4 & 1 day a week          &  108 &  264577.2\\\\\n\t   5 & 1-3 days a month      &  212 &  522205.4\\\\\n\t   6 & Less than monthly     &  544 & 1137866.7\\\\\n\t 995 & Missing response      &   28 &  143877.5\\\\\n\t 996 & Never                 & 1724 & 3756266.0\\\\\n\\end{tabular}\n",
            "text/plain": [
              "  bike_freq bikefreq_f            count weighted_sum\n",
              "1   1       5 or more days a week  139   330266.6   \n",
              "2   2       4 days a week           59   111964.8   \n",
              "3   3       2-3 days a week        152   332786.5   \n",
              "4   4       1 day a week           108   264577.2   \n",
              "5   5       1-3 days a month       212   522205.4   \n",
              "6   6       Less than monthly      544  1137866.7   \n",
              "7 995       Missing response        28   143877.5   \n",
              "8 996       Never                 1724  3756266.0   "
            ]
          },
          "metadata": {}
        }
      ]
    },
    {
      "cell_type": "markdown",
      "source": [
        "We can also look at the distribution by creating plots:"
      ],
      "metadata": {
        "id": "12KTL9wsmvp3"
      }
    },
    {
      "cell_type": "code",
      "source": [
        "# Set the plot dimensions\n",
        "options(repr.plot.width = 20, repr.plot.height = 4)\n",
        "\n",
        "dfPerson %>%\n",
        "  # Filter out rows where person_weight is 0 or less and exclude 'Missing response' for bike frequency\n",
        "  filter(person_weight > 0 & !bikefreq_f == \"Missing response\") %>%\n",
        "  # Group the data by bike frequency factor\n",
        "  group_by(bikefreq_f) %>%\n",
        "  # Summarize the data by calculating the sum of person_weight for each bike frequency group\n",
        "  summarize(weighted_sum = sum(person_weight, na.rm = TRUE)) %>%\n",
        "  # Calculate the proportion of each bike frequency group\n",
        "  mutate(prop = weighted_sum / sum(weighted_sum)) %>%\n",
        "  # Reverse the order of the bike frequency factor levels\n",
        "  mutate(bikefreq_f = forcats::fct_rev(bikefreq_f)) %>%\n",
        "  # Create a bar plot\n",
        "  ggplot(aes(x = prop, y = \"\", fill = bikefreq_f)) +\n",
        "  geom_col() +  # Add bars\n",
        "  labs(x = \"\", y = \"Proportion\", fill = \"Bike Frequency\") +  # Add axis labels and legend title\n",
        "  scale_x_continuous(labels = scales::percent) +  # Format x-axis labels as percentages\n",
        "  theme(text = element_text(size = 24), legend.position = \"top\") +  # Customize text size and legend position\n",
        "  guides(fill = guide_legend(reverse = TRUE)) +  # Reverse the order of the legend\n",
        "  scale_fill_brewer(palette = \"Blues\")  # Use a color palette from RColorBrewer"
      ],
      "metadata": {
        "colab": {
          "base_uri": "https://localhost:8080/",
          "height": 257
        },
        "id": "e6DAfJQImwKs",
        "outputId": "db4af494-a18c-426d-e0f2-877ec8e5936c"
      },
      "execution_count": null,
      "outputs": [
        {
          "output_type": "display_data",
          "data": {
            "text/plain": [
              "plot without title"
            ],
            "image/png": "[encoded data removed]"
          },
          "metadata": {
            "image/png": {
              "width": 1200,
              "height": 240
            }
          }
        }
      ]
    },
    {
      "cell_type": "markdown",
      "source": [
        "We can simplify the interpretation by collapsing the factors into fewer categories:"
      ],
      "metadata": {
        "id": "FDfkSL5G2j5X"
      }
    },
    {
      "cell_type": "code",
      "source": [
        "dfPerson %>%\n",
        "  # Filter out rows where person_weight is 0 or less and exclude 'Missing response' for bike frequency\n",
        "  filter(person_weight > 0 & !bikefreq_f == \"Missing response\") %>%\n",
        "  # Create a new factor variable by collapsing the bike frequency categories\n",
        "  mutate(\n",
        "    bikefreq_f2 = fct_collapse(\n",
        "      bikefreq_f,\n",
        "      \"Once a week or more\" = c(\"5 or more days a week\", \"4 days a week\", \"2-3 days a week\", \"1 day a week\"),\n",
        "      \"At least once a month\" = c(\"1-3 days a month\"),\n",
        "      \"A few times a year\" = \"Less than monthly\",\n",
        "      \"Never\" = \"Never\"\n",
        "    )\n",
        "  ) %>%\n",
        "  # Group the data by the new bike frequency factor\n",
        "  group_by(bikefreq_f2) %>%\n",
        "  # Summarize the data by calculating the sum of person_weight for each bike frequency group\n",
        "  summarize(weighted_sum = sum(person_weight, na.rm = TRUE)) %>%\n",
        "  # Calculate the proportion of each bike frequency group\n",
        "  mutate(prop = weighted_sum / sum(weighted_sum)) %>%\n",
        "  # Reverse the order of the new bike frequency factor levels\n",
        "  mutate(bikefreq_f2 = forcats::fct_rev(bikefreq_f2)) %>%\n",
        "  # Create a bar plot\n",
        "  ggplot(aes(x = prop, y = \"\", fill = bikefreq_f2)) +\n",
        "  geom_col() +  # Add bars\n",
        "  geom_text(aes(label = scales::percent(prop, accuracy = 1)),  # Add percentages\n",
        "            position = position_stack(vjust = 0.5),  # Center the text within the bars\n",
        "            size = 7) +  # Set text size\n",
        "  labs(x = \"\", y = \"\", fill = \" \",title=\"   How often do you use a bicycle outside?\") +  # Add axis labels and legend title\n",
        "  scale_x_continuous(labels = scales::percent,breaks = c(0,1),expand = c(0.02,0)) +  # Format x-axis labels as percentages\n",
        "  theme(text = element_text(size = 24), legend.position = \"top\",legend.justification = \"left\", panel.background = element_blank()) +  # Customize text size and legend position\n",
        "  guides(fill = guide_legend(reverse = TRUE)) +  # Reverse the order of the legend\n",
        "  scale_fill_brewer(palette = \"Blues\")\n"
      ],
      "metadata": {
        "colab": {
          "base_uri": "https://localhost:8080/",
          "height": 257
        },
        "id": "qfapcrgQ2kfr",
        "outputId": "01fc5e01-9d5b-4bcd-b282-44689f18d198"
      },
      "execution_count": null,
      "outputs": [
        {
          "output_type": "display_data",
          "data": {
            "text/plain": [
              "plot without title"
            ],
            "image/png": "[encoded data removed]"
          },
          "metadata": {
            "image/png": {
              "width": 1200,
              "height": 240
            }
          }
        }
      ]
    },
    {
      "cell_type": "markdown",
      "source": [
        "# Frequent biking and gender\n",
        "\n",
        "We can use the Person data to analyze the gender of those who biked at all, excluding those who chose \"prefer not to answer\" or \"other\" to ensure accurate analysis. It is crucial to exercise caution when working with portions of data and to thoroughly assess the data before drawing any conclusions. Always use engineering judgment or a similar expert perspective when cleaning the results to ensure accuracy and reliability.\n",
        "\n",
        "Of those who biked at all (i.e., the bike frequency is not never or missing), 42% are women and 57% are men.\n",
        "\n",
        "Of those who biked at least once a week (use the bike frequency variable as a filter),30% are women while 68% are men.\n"
      ],
      "metadata": {
        "id": "B0yVxcIa2vRU"
      }
    },
    {
      "cell_type": "code",
      "source": [
        "# Those who biked at all\n",
        "dfPerson %>%\n",
        "  # Filter out rows where person_weight is 0 or less, exclude specific bike frequencies and genders\n",
        "  filter(person_weight > 0 &\n",
        "         !bikefreq_f %in% c(\"Never\", \"Missing response\") &\n",
        "         !gender_f %in% c(\"Prefer not to answer\", \"Other\")) %>%\n",
        "  # Group the data by gender factor\n",
        "  group_by(gender_f) %>%\n",
        "  # Summarize the data by calculating the count of individuals and the sum of person_weight\n",
        "  summarize(\n",
        "    count = n(),  # Count the number of individuals in each gender group\n",
        "    weighted_sum = sum(person_weight, na.rm = TRUE)  # Calculate the sum of person_weight for each gender group, ignoring NA values\n",
        "  ) %>%\n",
        "  # Calculate the proportion and format it as a percentage\n",
        "  mutate(prop = paste0(100 * round(weighted_sum / sum(weighted_sum), 3), \"%\"))  # Multiply by 100 and format as a percentage string\n",
        "\n",
        "# Those who biked at least once a week\n",
        "dfPerson %>%\n",
        "  # Filter out rows where person_weight is 0 or less, exclude more specific bike frequencies and genders\n",
        "  filter(person_weight > 0 &\n",
        "         !bikefreq_f %in% c(\"Never\", \"Missing response\", \"Less than monthly\", \"1-3 days a month\") &\n",
        "         !gender_f %in% c(\"Prefer not to answer\", \"Other\")) %>%\n",
        "  # Group the data by gender factor\n",
        "  group_by(gender_f) %>%\n",
        "  # Summarize the data by calculating the count of individuals and the sum of person_weight\n",
        "  summarize(\n",
        "    count = n(),  # Count the number of individuals in each gender group\n",
        "    weighted_sum = sum(person_weight, na.rm = TRUE)  # Calculate the sum of person_weight for each gender group, ignoring NA values\n",
        "  ) %>%\n",
        "  # Calculate the proportion and format it as a percentage\n",
        "  mutate(prop = paste0(100 * round(weighted_sum / sum(weighted_sum), 3), \"%\"))  # Multiply by 100 and format as a percentage string\n"
      ],
      "metadata": {
        "colab": {
          "base_uri": "https://localhost:8080/",
          "height": 430
        },
        "id": "dNw1O3WdwTmW",
        "outputId": "63d04b79-d8d3-4c12-c0ba-cd05efc9ed09"
      },
      "execution_count": null,
      "outputs": [
        {
          "output_type": "display_data",
          "data": {
            "text/html": [
              "<table class=\"dataframe\">\n",
              "<caption>A tibble: 4 × 4</caption>\n",
              "<thead>\n",
              "\t<tr><th scope=col>gender_f</th><th scope=col>count</th><th scope=col>weighted_sum</th><th scope=col>prop</th></tr>\n",
              "\t<tr><th scope=col>&lt;fct&gt;</th><th scope=col>&lt;int&gt;</th><th scope=col>&lt;dbl&gt;</th><th scope=col>&lt;chr&gt;</th></tr>\n",
              "</thead>\n",
              "<tbody>\n",
              "\t<tr><td>Woman                  </td><td>543</td><td>1086108.694</td><td>42.1%</td></tr>\n",
              "\t<tr><td>Man                    </td><td>608</td><td>1467715.572</td><td>56.9%</td></tr>\n",
              "\t<tr><td>Non-binary             </td><td> 18</td><td>  21598.771</td><td>0.8% </td></tr>\n",
              "\t<tr><td>Prefer to self-describe</td><td>  3</td><td>   2843.995</td><td>0.1% </td></tr>\n",
              "</tbody>\n",
              "</table>\n"
            ],
            "text/markdown": "\nA tibble: 4 × 4\n\n| gender_f &lt;fct&gt; | count &lt;int&gt; | weighted_sum &lt;dbl&gt; | prop &lt;chr&gt; |\n|---|---|---|---|\n| Woman                   | 543 | 1086108.694 | 42.1% |\n| Man                     | 608 | 1467715.572 | 56.9% |\n| Non-binary              |  18 |   21598.771 | 0.8%  |\n| Prefer to self-describe |   3 |    2843.995 | 0.1%  |\n\n",
            "text/latex": "A tibble: 4 × 4\n\\begin{tabular}{llll}\n gender\\_f & count & weighted\\_sum & prop\\\\\n <fct> & <int> & <dbl> & <chr>\\\\\n\\hline\n\t Woman                   & 543 & 1086108.694 & 42.1\\%\\\\\n\t Man                     & 608 & 1467715.572 & 56.9\\%\\\\\n\t Non-binary              &  18 &   21598.771 & 0.8\\% \\\\\n\t Prefer to self-describe &   3 &    2843.995 & 0.1\\% \\\\\n\\end{tabular}\n",
            "text/plain": [
              "  gender_f                count weighted_sum prop \n",
              "1 Woman                   543   1086108.694  42.1%\n",
              "2 Man                     608   1467715.572  56.9%\n",
              "3 Non-binary               18     21598.771  0.8% \n",
              "4 Prefer to self-describe   3      2843.995  0.1% "
            ]
          },
          "metadata": {}
        },
        {
          "output_type": "display_data",
          "data": {
            "text/html": [
              "<table class=\"dataframe\">\n",
              "<caption>A tibble: 4 × 4</caption>\n",
              "<thead>\n",
              "\t<tr><th scope=col>gender_f</th><th scope=col>count</th><th scope=col>weighted_sum</th><th scope=col>prop</th></tr>\n",
              "\t<tr><th scope=col>&lt;fct&gt;</th><th scope=col>&lt;int&gt;</th><th scope=col>&lt;dbl&gt;</th><th scope=col>&lt;chr&gt;</th></tr>\n",
              "</thead>\n",
              "<tbody>\n",
              "\t<tr><td>Woman                  </td><td>144</td><td>289996.211</td><td>30% </td></tr>\n",
              "\t<tr><td>Man                    </td><td>282</td><td>666252.272</td><td>69% </td></tr>\n",
              "\t<tr><td>Non-binary             </td><td> 11</td><td>  7066.027</td><td>0.7%</td></tr>\n",
              "\t<tr><td>Prefer to self-describe</td><td>  2</td><td>  2754.205</td><td>0.3%</td></tr>\n",
              "</tbody>\n",
              "</table>\n"
            ],
            "text/markdown": "\nA tibble: 4 × 4\n\n| gender_f &lt;fct&gt; | count &lt;int&gt; | weighted_sum &lt;dbl&gt; | prop &lt;chr&gt; |\n|---|---|---|---|\n| Woman                   | 144 | 289996.211 | 30%  |\n| Man                     | 282 | 666252.272 | 69%  |\n| Non-binary              |  11 |   7066.027 | 0.7% |\n| Prefer to self-describe |   2 |   2754.205 | 0.3% |\n\n",
            "text/latex": "A tibble: 4 × 4\n\\begin{tabular}{llll}\n gender\\_f & count & weighted\\_sum & prop\\\\\n <fct> & <int> & <dbl> & <chr>\\\\\n\\hline\n\t Woman                   & 144 & 289996.211 & 30\\% \\\\\n\t Man                     & 282 & 666252.272 & 69\\% \\\\\n\t Non-binary              &  11 &   7066.027 & 0.7\\%\\\\\n\t Prefer to self-describe &   2 &   2754.205 & 0.3\\%\\\\\n\\end{tabular}\n",
            "text/plain": [
              "  gender_f                count weighted_sum prop\n",
              "1 Woman                   144   289996.211   30% \n",
              "2 Man                     282   666252.272   69% \n",
              "3 Non-binary               11     7066.027   0.7%\n",
              "4 Prefer to self-describe   2     2754.205   0.3%"
            ]
          },
          "metadata": {}
        }
      ]
    },
    {
      "cell_type": "markdown",
      "source": [
        "Looking at the trip data, we will join it with the Person data to analyze the gender of those who bike in a typical week. The results show 19% of trips being made by women versus 80% by men.\n"
      ],
      "metadata": {
        "id": "zom58iYP-YxF"
      }
    },
    {
      "cell_type": "code",
      "source": [
        "# Trip mode share\n",
        "dfTrip %>%\n",
        "  # Filter out rows where seven-day trip weight is NA or 0\n",
        "  filter(!is.na(trip_svnday_weight) & trip_svnday_weight > 0) %>%\n",
        "  # Create a factor variable for mode type\n",
        "  mutate(\n",
        "    mode_type_nyc_f = factor(mode_type_nyc, levels = labs.mode$value, labels = labs.mode$label)\n",
        "  ) %>%\n",
        "  # Group the data by mode type factor\n",
        "  group_by(mode_type_nyc_f) %>%\n",
        "  # Summarize the data by calculating the sum of seven-day trip weight for each mode type\n",
        "  summarize(\n",
        "    weighted_sum = sum(trip_svnday_weight, na.rm = TRUE)  # Calculate the sum of trip_svnday_weight, ignoring NA values\n",
        "  ) %>%\n",
        "  # Calculate the proportion and format it as a percentage\n",
        "  mutate(prop = paste0(100 * round(weighted_sum / sum(weighted_sum), 3), \"%\"))  # Multiply by 100 and format as a percentage string\n",
        "\n",
        "# Bike trips by gender\n",
        "dfTrip %>%\n",
        "  # Filter out rows where seven-day trip weight is NA or 0\n",
        "  filter(!is.na(trip_svnday_weight) & trip_svnday_weight > 0) %>%\n",
        "  # Create a factor variable for mode type\n",
        "  mutate(\n",
        "    mode_type_nyc_f = factor(mode_type_nyc, levels = labs.mode$value, labels = labs.mode$label)\n",
        "  ) %>%\n",
        "  # Further filter to only include trips made by bike\n",
        "  filter(mode_type_nyc_f == \"Bike\") %>%\n",
        "  # Join with dfPerson data on person_id\n",
        "  left_join(dfPerson, by = \"person_id\") %>%\n",
        "  # Filter out specific gender responses\n",
        "  filter(!gender_f %in% c(\"Prefer not to answer\")) %>%\n",
        "  # Group the data by gender factor\n",
        "  group_by(gender_f) %>%\n",
        "  # Summarize the data by calculating the count of individuals and the sum of seven-day trip weight\n",
        "  summarize(\n",
        "    n = n(),  # Count the number of individuals in each gender group\n",
        "    weighted_sum = sum(trip_svnday_weight, na.rm = TRUE)  # Calculate the sum of seven-day trip weight for each gender group, ignoring NA values\n",
        "  ) %>%\n",
        "  # Calculate the proportion and format it as a percentage\n",
        "  mutate(prop = percent(weighted_sum / sum(weighted_sum), accuracy = 0.1))  # Use scales::percent to format the proportion\n"
      ],
      "metadata": {
        "colab": {
          "base_uri": "https://localhost:8080/",
          "height": 681
        },
        "id": "M1ACZYyQosDH",
        "outputId": "28caf79b-b348-4dd7-c8ec-a464ceca1b1e"
      },
      "execution_count": null,
      "outputs": [
        {
          "output_type": "display_data",
          "data": {
            "text/html": [
              "<table class=\"dataframe\">\n",
              "<caption>A tibble: 11 × 3</caption>\n",
              "<thead>\n",
              "\t<tr><th scope=col>mode_type_nyc_f</th><th scope=col>weighted_sum</th><th scope=col>prop</th></tr>\n",
              "\t<tr><th scope=col>&lt;fct&gt;</th><th scope=col>&lt;dbl&gt;</th><th scope=col>&lt;chr&gt;</th></tr>\n",
              "</thead>\n",
              "<tbody>\n",
              "\t<tr><td>For-Hire Vehicle    </td><td>  115102.17</td><td>0.4% </td></tr>\n",
              "\t<tr><td>For-Hire Vehicle TNC</td><td>  486609.79</td><td>1.6% </td></tr>\n",
              "\t<tr><td>Commuter Rail       </td><td>  172551.40</td><td>0.6% </td></tr>\n",
              "\t<tr><td>Bus                 </td><td> 1317968.77</td><td>4.2% </td></tr>\n",
              "\t<tr><td>Ferry               </td><td>   94598.93</td><td>0.3% </td></tr>\n",
              "\t<tr><td>Subway              </td><td> 3739275.44</td><td>11.9%</td></tr>\n",
              "\t<tr><td>Vehicle             </td><td>10205123.30</td><td>32.6%</td></tr>\n",
              "\t<tr><td>Bike                </td><td>  887558.63</td><td>2.8% </td></tr>\n",
              "\t<tr><td>Walk                </td><td>13990634.97</td><td>44.6%</td></tr>\n",
              "\t<tr><td>Other               </td><td>  247237.54</td><td>0.8% </td></tr>\n",
              "\t<tr><td>Micromobility       </td><td>   94583.77</td><td>0.3% </td></tr>\n",
              "</tbody>\n",
              "</table>\n"
            ],
            "text/markdown": "\nA tibble: 11 × 3\n\n| mode_type_nyc_f &lt;fct&gt; | weighted_sum &lt;dbl&gt; | prop &lt;chr&gt; |\n|---|---|---|\n| For-Hire Vehicle     |   115102.17 | 0.4%  |\n| For-Hire Vehicle TNC |   486609.79 | 1.6%  |\n| Commuter Rail        |   172551.40 | 0.6%  |\n| Bus                  |  1317968.77 | 4.2%  |\n| Ferry                |    94598.93 | 0.3%  |\n| Subway               |  3739275.44 | 11.9% |\n| Vehicle              | 10205123.30 | 32.6% |\n| Bike                 |   887558.63 | 2.8%  |\n| Walk                 | 13990634.97 | 44.6% |\n| Other                |   247237.54 | 0.8%  |\n| Micromobility        |    94583.77 | 0.3%  |\n\n",
            "text/latex": "A tibble: 11 × 3\n\\begin{tabular}{lll}\n mode\\_type\\_nyc\\_f & weighted\\_sum & prop\\\\\n <fct> & <dbl> & <chr>\\\\\n\\hline\n\t For-Hire Vehicle     &   115102.17 & 0.4\\% \\\\\n\t For-Hire Vehicle TNC &   486609.79 & 1.6\\% \\\\\n\t Commuter Rail        &   172551.40 & 0.6\\% \\\\\n\t Bus                  &  1317968.77 & 4.2\\% \\\\\n\t Ferry                &    94598.93 & 0.3\\% \\\\\n\t Subway               &  3739275.44 & 11.9\\%\\\\\n\t Vehicle              & 10205123.30 & 32.6\\%\\\\\n\t Bike                 &   887558.63 & 2.8\\% \\\\\n\t Walk                 & 13990634.97 & 44.6\\%\\\\\n\t Other                &   247237.54 & 0.8\\% \\\\\n\t Micromobility        &    94583.77 & 0.3\\% \\\\\n\\end{tabular}\n",
            "text/plain": [
              "   mode_type_nyc_f      weighted_sum prop \n",
              "1  For-Hire Vehicle       115102.17  0.4% \n",
              "2  For-Hire Vehicle TNC   486609.79  1.6% \n",
              "3  Commuter Rail          172551.40  0.6% \n",
              "4  Bus                   1317968.77  4.2% \n",
              "5  Ferry                   94598.93  0.3% \n",
              "6  Subway                3739275.44  11.9%\n",
              "7  Vehicle              10205123.30  32.6%\n",
              "8  Bike                   887558.63  2.8% \n",
              "9  Walk                 13990634.97  44.6%\n",
              "10 Other                  247237.54  0.8% \n",
              "11 Micromobility           94583.77  0.3% "
            ]
          },
          "metadata": {}
        },
        {
          "output_type": "display_data",
          "data": {
            "text/html": [
              "<table class=\"dataframe\">\n",
              "<caption>A tibble: 5 × 4</caption>\n",
              "<thead>\n",
              "\t<tr><th scope=col>gender_f</th><th scope=col>n</th><th scope=col>weighted_sum</th><th scope=col>prop</th></tr>\n",
              "\t<tr><th scope=col>&lt;fct&gt;</th><th scope=col>&lt;int&gt;</th><th scope=col>&lt;dbl&gt;</th><th scope=col>&lt;chr&gt;</th></tr>\n",
              "</thead>\n",
              "<tbody>\n",
              "\t<tr><td>Woman                  </td><td> 550</td><td>163242.7862</td><td>18.9%</td></tr>\n",
              "\t<tr><td>Man                    </td><td>1170</td><td>694640.6052</td><td>80.2%</td></tr>\n",
              "\t<tr><td>Non-binary             </td><td>  31</td><td>  1596.4233</td><td>0.2% </td></tr>\n",
              "\t<tr><td>Prefer to self-describe</td><td>  15</td><td>   842.2525</td><td>0.1% </td></tr>\n",
              "\t<tr><td>Other                  </td><td>   4</td><td>  5275.5302</td><td>0.6% </td></tr>\n",
              "</tbody>\n",
              "</table>\n"
            ],
            "text/markdown": "\nA tibble: 5 × 4\n\n| gender_f &lt;fct&gt; | n &lt;int&gt; | weighted_sum &lt;dbl&gt; | prop &lt;chr&gt; |\n|---|---|---|---|\n| Woman                   |  550 | 163242.7862 | 18.9% |\n| Man                     | 1170 | 694640.6052 | 80.2% |\n| Non-binary              |   31 |   1596.4233 | 0.2%  |\n| Prefer to self-describe |   15 |    842.2525 | 0.1%  |\n| Other                   |    4 |   5275.5302 | 0.6%  |\n\n",
            "text/latex": "A tibble: 5 × 4\n\\begin{tabular}{llll}\n gender\\_f & n & weighted\\_sum & prop\\\\\n <fct> & <int> & <dbl> & <chr>\\\\\n\\hline\n\t Woman                   &  550 & 163242.7862 & 18.9\\%\\\\\n\t Man                     & 1170 & 694640.6052 & 80.2\\%\\\\\n\t Non-binary              &   31 &   1596.4233 & 0.2\\% \\\\\n\t Prefer to self-describe &   15 &    842.2525 & 0.1\\% \\\\\n\t Other                   &    4 &   5275.5302 & 0.6\\% \\\\\n\\end{tabular}\n",
            "text/plain": [
              "  gender_f                n    weighted_sum prop \n",
              "1 Woman                    550 163242.7862  18.9%\n",
              "2 Man                     1170 694640.6052  80.2%\n",
              "3 Non-binary                31   1596.4233  0.2% \n",
              "4 Prefer to self-describe   15    842.2525  0.1% \n",
              "5 Other                      4   5275.5302  0.6% "
            ]
          },
          "metadata": {}
        }
      ]
    }
  ],
  "metadata": {
    "colab": {
      "provenance": [],
      "authorship_tag": "ABX9TyMK77nAFaS3zqE/p1gTPhJ7",
      "include_colab_link": true
    },
    "kernelspec": {
      "display_name": "R",
      "name": "ir"
    },
    "language_info": {
      "name": "R"
    }
  },
  "nbformat": 4,
  "nbformat_minor": 0
}